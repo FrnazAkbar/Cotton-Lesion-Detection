{
 "cells": [
  {
   "cell_type": "code",
   "execution_count": null,
   "id": "146c9910-666c-48cc-b780-955f022865da",
   "metadata": {},
   "outputs": [],
   "source": [
    "import numpy as np\n",
    "import matplotlib.pyplot as plt\n",
    "import cv2\n",
    "import tensorflow as tf\n",
    "from tensorflow.keras.preprocessing.image import ImageDataGenerator\n",
    "from tensorflow.keras.applications import VGG16, ResNet50, InceptionV3\n",
    "from tensorflow.keras.models import Model\n",
    "from tensorflow.keras.layers import Flatten, Dense, Average, Input, Concatenate, GlobalAveragePooling2D, Multiply, Add, Conv2D\n",
    "from tensorflow.keras.optimizers import Adam\n",
    "from tensorflow.keras.callbacks import EarlyStopping\n",
    "from sklearn.utils.class_weight import compute_class_weight\n",
    "from sklearn.metrics import classification_report, confusion_matrix\n",
    "import seaborn as sns"
   ]
  },
  {
   "cell_type": "code",
   "execution_count": null,
   "id": "c0240329-96c2-4a28-b5dc-716f245b6d4c",
   "metadata": {},
   "outputs": [],
   "source": [
    "train_dir = 'cotton-disease-dataset/Cotton Disease/train'\n",
    "val_dir = 'cotton-disease-dataset/Cotton Disease/val'\n",
    "test_dir = 'cotton-disease-dataset/Cotton Disease/test'"
   ]
  },
  {
   "cell_type": "code",
   "execution_count": null,
   "id": "b5655445-d833-4e5e-afbe-00762e6c1182",
   "metadata": {},
   "outputs": [],
   "source": [
    "def preprocess_image(image):\n",
    "    image = cv2.cvtColor(image, cv2.COLOR_RGB2BGR)\n",
    "    # Apply Gaussian filter\n",
    "    image_gaussian = cv2.GaussianBlur(image, (5, 5), 0)\n",
    "    # Apply Laplacian filter\n",
    "    image_laplacian = cv2.Laplacian(image, cv2.CV_64F)\n",
    "    image_laplacian = cv2.convertScaleAbs(image_laplacian)\n",
    "    # Combine original, Gaussian, and Laplacian images\n",
    "    combined_image = np.concatenate((image, image_gaussian, image_laplacian), axis=-1)\n",
    "    return combined_image"
   ]
  },
  {
   "cell_type": "code",
   "execution_count": null,
   "id": "54894cff-abc3-467b-8732-3904b5845f57",
   "metadata": {},
   "outputs": [],
   "source": [
    "def preprocess_dataset(directory):\n",
    "    datagen = ImageDataGenerator(\n",
    "        preprocessing_function=preprocess_image,\n",
    "        rescale=1./255,\n",
    "        rotation_range=20,\n",
    "        width_shift_range=0.2,\n",
    "        height_shift_range=0.2,\n",
    "        shear_range=0.2,\n",
    "        zoom_range=0.2,\n",
    "        horizontal_flip=True,\n",
    "        fill_mode='nearest'\n",
    "    )"
   ]
  },
  {
   "cell_type": "code",
   "execution_count": null,
   "id": "6eb220e8-c218-4110-8ce6-42d55e4b4153",
   "metadata": {},
   "outputs": [],
   "source": [
    "return datagen.flow_from_directory(\n",
    "        directory,\n",
    "        target_size=(224, 224),\n",
    "        batch_size=32,\n",
    "        class_mode='categorical'\n",
    "    )"
   ]
  },
  {
   "cell_type": "code",
   "execution_count": null,
   "id": "7c3c5ceb-cb7b-4291-b68f-82a8e9fc0a5a",
   "metadata": {},
   "outputs": [],
   "source": [
    "train_generator = preprocess_dataset(train_dir)\n",
    "val_generator = preprocess_dataset(val_dir)\n",
    "test_generator = preprocess_dataset(test_dir)"
   ]
  },
  {
   "cell_type": "code",
   "execution_count": null,
   "id": "bd3df3c5-0ed9-4d53-bc4f-eb36c4767d76",
   "metadata": {},
   "outputs": [],
   "source": [
    "print(\"Train Class Indices: \", train_generator.class_indices)\n",
    "print(\"Validation Class Indices: \", val_generator.class_indices)\n",
    "print(\"Test Class Indices: \", test_generator.class_indices)"
   ]
  },
  {
   "cell_type": "code",
   "execution_count": null,
   "id": "2c66d5ca-9a1d-4cc6-95e4-6960972e4e1c",
   "metadata": {},
   "outputs": [],
   "source": [
    "assert train_generator.class_indices == val_generator.class_indices == test_generator.class_indices"
   ]
  },
  {
   "cell_type": "code",
   "execution_count": null,
   "id": "321b728d-04df-40d9-b54a-ef58a5815129",
   "metadata": {},
   "outputs": [],
   "source": [
    "num_classes = len(train_generator.class_indices)"
   ]
  },
  {
   "cell_type": "code",
   "execution_count": null,
   "id": "ff14aa8b-3866-4143-8f32-82fefd107b1c",
   "metadata": {},
   "outputs": [],
   "source": [
    "def channel_attention(input_feature, ratio=8):\n",
    "    channel = input_feature.shape[-1]\n",
    "    shared_layer_one = Dense(channel // ratio, activation='relu', kernel_initializer='he_normal', use_bias=True, bias_initializer='zeros')\n",
    "    shared_layer_two = Dense(channel, kernel_initializer='he_normal', use_bias=True, bias_initializer='zeros')"
   ]
  },
  {
   "cell_type": "code",
   "execution_count": null,
   "id": "fbc7b79b-94b8-4304-be85-ddb910cfe63b",
   "metadata": {},
   "outputs": [],
   "source": [
    "avg_pool = GlobalAveragePooling2D()(input_feature)\n",
    "    avg_pool = tf.expand_dims(avg_pool, 1)\n",
    "    avg_pool = tf.expand_dims(avg_pool, 1)\n",
    "    avg_pool = shared_layer_one(avg_pool)\n",
    "    avg_pool = shared_layer_two(avg_pool)"
   ]
  },
  {
   "cell_type": "code",
   "execution_count": null,
   "id": "da451aae-cd04-4a0e-8802-889800ce57d8",
   "metadata": {},
   "outputs": [],
   "source": [
    "max_pool = GlobalAveragePooling2D()(input_feature)\n",
    "    max_pool = tf.expand_dims(max_pool, 1)\n",
    "    max_pool = tf.expand_dims(max_pool, 1)\n",
    "    max_pool = shared_layer_one(max_pool)\n",
    "    max_pool = shared_layer_two(max_pool)"
   ]
  },
  {
   "cell_type": "code",
   "execution_count": null,
   "id": "fe64233c-fec0-4ca5-8db3-735593a96759",
   "metadata": {},
   "outputs": [],
   "source": [
    "cbam_feature = Add()([avg_pool, max_pool])\n",
    "    cbam_feature = tf.keras.activations.sigmoid(cbam_feature)"
   ]
  },
  {
   "cell_type": "code",
   "execution_count": null,
   "id": "6874d4da-3dd1-41a8-9c8d-98c88121cd09",
   "metadata": {},
   "outputs": [],
   "source": [
    "return Multiply()([input_feature, cbam_feature])"
   ]
  },
  {
   "cell_type": "code",
   "execution_count": null,
   "id": "8c70b46e-7a99-4265-b3e6-af7ff935a9b9",
   "metadata": {},
   "outputs": [],
   "source": [
    "def spatial_attention(input_feature):\n",
    "    kernel_size = 7\n",
    "    avg_pool = tf.reduce_mean(input_feature, axis=-1, keepdims=True)\n",
    "    max_pool = tf.reduce_max(input_feature, axis=-1, keepdims=True)\n",
    "    concat = Concatenate(axis=-1)([avg_pool, max_pool])\n",
    "    cbam_feature = Conv2D(filters=1, kernel_size=kernel_size, strides=1, padding='same', activation='sigmoid', kernel_initializer='he_normal', use_bias=False)(concat)\n",
    "    return Multiply()([input_feature, cbam_feature])"
   ]
  },
  {
   "cell_type": "code",
   "execution_count": null,
   "id": "14330289-051b-4daa-8112-1a1dd04f1b1b",
   "metadata": {},
   "outputs": [],
   "source": [
    "def create_model_with_attention(base_model_class, input_shape=(224, 224, 9), num_classes=num_classes):\n",
    "    input_layer = Input(shape=input_shape)\n",
    "    base_model = base_model_class(weights='imagenet', include_top=False, input_shape=(224, 224, 3))"
   ]
  },
  {
   "cell_type": "code",
   "execution_count": null,
   "id": "19fd4b92-8c6d-4cfd-80bd-c36c44b94cff",
   "metadata": {},
   "outputs": [],
   "source": [
    "    feature = base_model(input_layer[:, :, :, :3])\n",
    "    feature_gaussian = base_model(input_layer[:, :, :, 3:6])\n",
    "    feature_laplacian = base_model(input_layer[:, :, :, 6:])"
   ]
  },
  {
   "cell_type": "code",
   "execution_count": null,
   "id": "860f0b73-f534-43ab-8565-0e3b266b4349",
   "metadata": {},
   "outputs": [],
   "source": [
    "concatenated_features = Concatenate()([feature, feature_gaussian, feature_laplacian])"
   ]
  },
  {
   "cell_type": "code",
   "execution_count": null,
   "id": "0ee82ecb-e9dc-44bc-bd73-0fdacbd4c8fb",
   "metadata": {},
   "outputs": [],
   "source": [
    "    feature_with_attention = channel_attention(concatenated_features)\n",
    "    feature_with_attention = spatial_attention(feature_with_attention)"
   ]
  },
  {
   "cell_type": "code",
   "execution_count": null,
   "id": "001f017e-8da5-4f75-a1fe-7f14f5406ad9",
   "metadata": {},
   "outputs": [],
   "source": [
    "x = Flatten()(feature_with_attention)\n",
    "    x = Dense(228, activation='relu')(x)\n",
    "    x = Dense(64, activation='relu')(x)\n",
    "    predictions = Dense(num_classes, activation='softmax')(x)"
   ]
  },
  {
   "cell_type": "code",
   "execution_count": null,
   "id": "b1982223-4015-42ce-8214-e35c0165872b",
   "metadata": {},
   "outputs": [],
   "source": [
    "model = Model(inputs=input_layer, outputs=predictions)\n",
    "    for layer in base_model.layers:\n",
    "        layer.trainable = False\n",
    "    return model"
   ]
  },
  {
   "cell_type": "code",
   "execution_count": null,
   "id": "40bd0cc9-9149-4fe4-8b8b-49ae51e4a152",
   "metadata": {},
   "outputs": [],
   "source": [
    "vgg16_model = create_model_with_attention(VGG16)\n",
    "resnet50_model = create_model_with_attention(ResNet50)\n",
    "inceptionv3_model = create_model_with_attention(InceptionV3)"
   ]
  },
  {
   "cell_type": "code",
   "execution_count": null,
   "id": "42ce4bad-fb8a-40d8-8545-db4b4d990b56",
   "metadata": {},
   "outputs": [],
   "source": [
    "vgg16_model.compile(optimizer=Adam(learning_rate=0.001), loss='categorical_crossentropy', metrics=['accuracy'])\n",
    "resnet50_model.compile(optimizer=Adam(learning_rate=0.001), loss='categorical_crossentropy', metrics=['accuracy'])\n",
    "inceptionv3_model.compile(optimizer=Adam(learning_rate=0.001), loss='categorical_crossentropy', metrics=['accuracy'])"
   ]
  },
  {
   "cell_type": "code",
   "execution_count": null,
   "id": "1894c7e0-e4ca-4799-a71f-1bdba0e0cecc",
   "metadata": {},
   "outputs": [],
   "source": [
    "true_classes = test_generator.classes"
   ]
  },
  {
   "cell_type": "code",
   "execution_count": null,
   "id": "1d9db0fd-808a-4fb4-b17a-803e2ce361c1",
   "metadata": {},
   "outputs": [],
   "source": [
    "class_weights = compute_class_weight(\n",
    "    class_weight='balanced',\n",
    "    classes=np.unique(true_classes),\n",
    "    y=true_classes\n",
    ")\n",
    "class_weights = {i: class_weights[i] for i in range(len(class_weights))}"
   ]
  },
  {
   "cell_type": "code",
   "execution_count": null,
   "id": "3eabf048-bf10-41fd-9214-72a4ad71b661",
   "metadata": {},
   "outputs": [],
   "source": [
    "early_stopping = EarlyStopping(monitor='val_loss', patience=5, restore_best_weights=True)"
   ]
  },
  {
   "cell_type": "code",
   "execution_count": null,
   "id": "4d3a896b-3d36-4730-abe2-ea532f8d295a",
   "metadata": {},
   "outputs": [],
   "source": [
    "history_vgg16 = vgg16_model.fit(\n",
    "    train_generator,\n",
    "    epochs=100,\n",
    "    validation_data=val_generator,\n",
    "    callbacks=[early_stopping],\n",
    "    class_weight=class_weights\n",
    ")"
   ]
  },
  {
   "cell_type": "code",
   "execution_count": null,
   "id": "c4e51768-7b43-483c-a693-e54a3d4ba1b1",
   "metadata": {},
   "outputs": [],
   "source": [
    "history_resnet50 = resnet50_model.fit(\n",
    "    train_generator,\n",
    "    epochs=100,\n",
    "    validation_data=val_generator,\n",
    "    callbacks=[early_stopping],\n",
    "    class_weight=class_weights\n",
    ")"
   ]
  },
  {
   "cell_type": "code",
   "execution_count": null,
   "id": "698458f9-668d-4922-a136-c751ef8f0bc8",
   "metadata": {},
   "outputs": [],
   "source": [
    "history_inceptionv3 = inceptionv3_model.fit(\n",
    "    train_generator,\n",
    "    epochs=100,\n",
    "    validation_data=val_generator,\n",
    "    callbacks=[early_stopping],\n",
    "    class_weight=class_weights\n",
    ")"
   ]
  },
  {
   "cell_type": "code",
   "execution_count": null,
   "id": "32133c20-578a-4f45-ade9-d268fe8731dc",
   "metadata": {},
   "outputs": [],
   "source": [
    "models = [vgg16_model, resnet50_model, inceptionv3_model]\n",
    "model_inputs = [model.input for model in models]\n",
    "model_outputs = [model.output for model in models]\n",
    "ensemble_output = Average()(model_outputs)\n",
    "ensemble_model = Model(inputs=model_inputs, outputs=ensemble_output)"
   ]
  },
  {
   "cell_type": "code",
   "execution_count": null,
   "id": "7580e3e9-9233-4b56-81ff-68c6bb4906b7",
   "metadata": {},
   "outputs": [],
   "source": [
    "ensemble_model.compile(optimizer=Adam(learning_rate=0.001), loss='categorical_crossentropy', metrics=['accuracy'])"
   ]
  },
  {
   "cell_type": "code",
   "execution_count": null,
   "id": "b50576b0-990a-4a02-a445-687e481b9570",
   "metadata": {},
   "outputs": [],
   "source": [
    "test_loss_vgg16, test_acc_vgg16 = vgg16_model.evaluate(test_generator)\n",
    "test_loss_resnet50, test_acc_resnet50 = resnet50_model.evaluate(test_generator)\n",
    "test_loss_inceptionv3, test_acc_inceptionv3 = inceptionv3_model.evaluate(test_generator)"
   ]
  },
  {
   "cell_type": "code",
   "execution_count": null,
   "id": "c5f1468a-1e90-4143-a2b1-8444e986ee53",
   "metadata": {},
   "outputs": [],
   "source": [
    "print(f'Test accuracy VGG16: {test_acc_vgg16}')\n",
    "print(f'Test accuracy ResNet50: {test_acc_resnet50}')\n",
    "print(f'Test accuracy InceptionV3: {test_acc_inceptionv3}')"
   ]
  },
  {
   "cell_type": "code",
   "execution_count": null,
   "id": "afd6fcab-c442-4994-bc89-b03cfed83285",
   "metadata": {},
   "outputs": [],
   "source": [
    "predictions_vgg16 = vgg16_model.predict(test_generator)\n",
    "predictions_resnet50 = resnet50_model.predict(test_generator)\n",
    "predictions_inceptionv3 = inceptionv3_model.predict(test_generator)"
   ]
  },
  {
   "cell_type": "code",
   "execution_count": null,
   "id": "16e0321c-e4ff-423b-acc9-2ff0971433f2",
   "metadata": {},
   "outputs": [],
   "source": [
    "ensemble_predictions = (predictions_vgg16 + predictions_resnet50 + predictions_inceptionv3) / 3\n",
    "predicted_classes = np.argmax(ensemble_predictions, axis=1)"
   ]
  },
  {
   "cell_type": "code",
   "execution_count": null,
   "id": "42e7e34f-65a7-4e34-8f0e-38562ec1ddb7",
   "metadata": {},
   "outputs": [],
   "source": [
    "class_labels = list(test_generator.class_indices.keys())"
   ]
  },
  {
   "cell_type": "code",
   "execution_count": null,
   "id": "745df3fd-823e-4332-a57d-1fcbe4f73042",
   "metadata": {},
   "outputs": [],
   "source": [
    "print(classification_report(predicted_classes, true_classes, target_names=class_labels))"
   ]
  },
  {
   "cell_type": "code",
   "execution_count": null,
   "id": "0d9302e3-52a3-4064-a3b0-83cefabd35b7",
   "metadata": {},
   "outputs": [],
   "source": [
    "conf_matrix = confusion_matrix(true_classes, predicted_classes)"
   ]
  },
  {
   "cell_type": "code",
   "execution_count": null,
   "id": "6a60fb62-6220-44e6-8cd8-b1a2aef63a59",
   "metadata": {},
   "outputs": [],
   "source": [
    "plt.figure(figsize=(10, 8))\n",
    "sns.heatmap(conf_matrix, annot=True, fmt='d', cmap='Blues', xticklabels=class_labels, yticklabels=class_labels)\n",
    "plt.xlabel('Predicted')\n",
    "plt.ylabel('True')\n",
    "plt.title('Confusion Matrix')\n",
    "plt.save(\"Confusion Matrix.Jpg\")\n",
    "plt.show()"
   ]
  }
 ],
 "metadata": {
  "kernelspec": {
   "display_name": "Python 3 (ipykernel)",
   "language": "python",
   "name": "python3"
  },
  "language_info": {
   "codemirror_mode": {
    "name": "ipython",
    "version": 3
   },
   "file_extension": ".py",
   "mimetype": "text/x-python",
   "name": "python",
   "nbconvert_exporter": "python",
   "pygments_lexer": "ipython3",
   "version": "3.11.7"
  }
 },
 "nbformat": 4,
 "nbformat_minor": 5
}
